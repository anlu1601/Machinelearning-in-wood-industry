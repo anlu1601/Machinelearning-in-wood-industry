{
  "nbformat": 4,
  "nbformat_minor": 0,
  "metadata": {
    "colab": {
      "provenance": [],
      "collapsed_sections": [
        "AmX_SrYv68be"
      ],
      "authorship_tag": "ABX9TyOWHxffrWqriZbpEj715IKA"
    },
    "kernelspec": {
      "name": "python3",
      "display_name": "Python 3"
    },
    "language_info": {
      "name": "python"
    },
    "accelerator": "GPU",
    "gpuClass": "standard"
  },
  "cells": [
    {
      "cell_type": "code",
      "execution_count": 1,
      "metadata": {
        "colab": {
          "base_uri": "https://localhost:8080/",
          "height": 53
        },
        "id": "HWeQqYVLNiPk",
        "outputId": "71c69a76-bffb-47ad-e999-e365be1ce7cd"
      },
      "outputs": [
        {
          "output_type": "stream",
          "name": "stdout",
          "text": [
            "Mounted at /content/drive\n"
          ]
        },
        {
          "output_type": "execute_result",
          "data": {
            "text/plain": [
              "'2.9.2'"
            ],
            "application/vnd.google.colaboratory.intrinsic+json": {
              "type": "string"
            }
          },
          "metadata": {},
          "execution_count": 1
        }
      ],
      "source": [
        "import tensorflow as tf\n",
        "import timeit\n",
        "import matplotlib.pyplot as plt\n",
        "import os\n",
        "import time\n",
        "import numpy as np\n",
        "import cv2\n",
        "import random\n",
        "#!pip install pyod\n",
        "tf.device('/device:GPU:0')\n",
        "from tensorboard.plugins.hparams import api as hp\n",
        "from tensorflow.keras.applications.densenet import DenseNet169\n",
        "from tensorflow.keras.models import Model\n",
        "from sklearn.metrics import roc_auc_score\n",
        "from sklearn.model_selection import StratifiedKFold\n",
        "from sklearn.metrics import f1_score\n",
        "from sklearn.metrics import ConfusionMatrixDisplay\n",
        "from sklearn.metrics import confusion_matrix\n",
        "\n",
        "from google.colab import drive\n",
        "drive.mount('/content/drive')\n",
        "tf.__version__"
      ]
    },
    {
      "cell_type": "code",
      "source": [
        "def create_alexnet():\n",
        "\n",
        "  model = tf.keras.models.Sequential([\n",
        "      tf.keras.layers.Conv2D(filters=96, kernel_size=(11,11), strides=(4,4), activation='relu', input_shape=(227,227,3)),\n",
        "      tf.keras.layers.BatchNormalization(),\n",
        "      tf.keras.layers.MaxPool2D(pool_size=(3,3), strides=(2,2)),\n",
        "      tf.keras.layers.Conv2D(filters=256, kernel_size=(5,5), strides=(1,1), activation='relu', padding=\"same\"),\n",
        "      tf.keras.layers.BatchNormalization(),\n",
        "      tf.keras.layers.MaxPool2D(pool_size=(3,3), strides=(2,2)),\n",
        "      tf.keras.layers.Conv2D(filters=384, kernel_size=(3,3), strides=(1,1), activation='relu', padding=\"same\"),\n",
        "      tf.keras.layers.BatchNormalization(),\n",
        "      tf.keras.layers.Conv2D(filters=384, kernel_size=(3,3), strides=(1,1), activation='relu', padding=\"same\"),\n",
        "      tf.keras.layers.BatchNormalization(),\n",
        "      tf.keras.layers.Conv2D(filters=256, kernel_size=(3,3), strides=(1,1), activation='relu', padding=\"same\"),\n",
        "      tf.keras.layers.BatchNormalization(),\n",
        "      tf.keras.layers.MaxPool2D(pool_size=(3,3), strides=(2,2)),\n",
        "      tf.keras.layers.Flatten(),\n",
        "      tf.keras.layers.Dense(4096, activation='relu'),\n",
        "      tf.keras.layers.Dropout(0.8),\n",
        "      tf.keras.layers.Dense(4096, activation='relu'),\n",
        "      tf.keras.layers.Dropout(0.8),\n",
        "      tf.keras.layers.Dense(1, activation='sigmoid')\n",
        "  ])\n",
        "\n",
        "  model.compile(loss='binary_crossentropy', optimizer=tf.optimizers.SGD(learning_rate=0.001), metrics=['accuracy'])\n",
        "  #modelAlex.summary()\n",
        "\n",
        "  return model"
      ],
      "metadata": {
        "id": "JbR6VtnQNur_"
      },
      "execution_count": 2,
      "outputs": []
    },
    {
      "cell_type": "markdown",
      "source": [
        "### Data loaders"
      ],
      "metadata": {
        "id": "AmX_SrYv68be"
      }
    },
    {
      "cell_type": "code",
      "source": [
        "def load_images_preprocess_batch(folder, fnames, resize):\n",
        "    images = []\n",
        "\n",
        "    \n",
        "    for filename in fnames:\n",
        "        img = cv2.imread(os.path.join(folder, filename))\n",
        "        if img is not None:\n",
        "            img = tf.image.per_image_standardization(img)\n",
        "            img = tf.image.resize(img, (resize, resize))\n",
        "            images.append(img)\n",
        "            \n",
        "    return images\n"
      ],
      "metadata": {
        "id": "3uzsSf_9PO8u"
      },
      "execution_count": 4,
      "outputs": []
    },
    {
      "cell_type": "code",
      "source": [
        "def create_data_set(class_one, class_two):\n",
        "  label1 = []\n",
        "  label2 = []\n",
        "\n",
        "\n",
        "  for i in range(len(class_one)):\n",
        "    label1.append(1)\n",
        "    img = class_one[i]\n",
        "    #img = tf.image.per_image_standardization(img)\n",
        "    #img = tf.image.resize(img, (227, 227))\n",
        "    class_one[i] = img\n",
        "\n",
        "\n",
        "  for i in range(len(class_two)):\n",
        "    label2.append(0)\n",
        "    img = class_two[i]\n",
        "    #img = tf.image.per_image_standardization(img)\n",
        "    #img = tf.image.resize(img, (227, 227))\n",
        "    class_two[i] = img\n",
        "\n",
        "  good_data = (class_one, label1)\n",
        "  bad_data = (class_two, label2)\n",
        "\n",
        "  comb_class = class_one + class_two\n",
        "  comb_lab = label1 + label2\n",
        "\n",
        "  z = list(zip(comb_class, comb_lab))\n",
        "\n",
        "  random.shuffle(z)\n",
        "\n",
        "  comb_class, comb_lab = zip(*z)\n",
        "\n",
        "  combined_data = (comb_class, comb_lab)\n",
        "\n",
        "  # need to shuffle\n",
        "\n",
        "  return combined_data"
      ],
      "metadata": {
        "id": "IX1ir1RdQaSw"
      },
      "execution_count": 5,
      "outputs": []
    },
    {
      "cell_type": "code",
      "source": [
        "def divide_data(data, train_perc, test_perc):\n",
        "  cut_train = int(len(data[0])*train_perc)\n",
        "  cut_test = int(len(data[0])*(1-test_perc))\n",
        "\n",
        "\n",
        "  train = (data[0][:cut_train], data[1][:cut_train])\n",
        "  test = (data[0][cut_train:cut_test], data[1][cut_train:cut_test])\n",
        "  val = (data[0][cut_test:], data[1][cut_test:])\n",
        "\n",
        "  return train, test, val"
      ],
      "metadata": {
        "id": "6l5JBaQ3Qeah"
      },
      "execution_count": 6,
      "outputs": []
    },
    {
      "cell_type": "code",
      "source": [
        "def divide_data_noval(data, train_perc):\n",
        "  cut_train = int(len(data[0])*train_perc)\n",
        "\n",
        "\n",
        "  train = (data[0][:cut_train], data[1][:cut_train])\n",
        "  test = (data[0][cut_train:], data[1][cut_train:])\n",
        "\n",
        "  return train, test"
      ],
      "metadata": {
        "id": "uwBsThhDPiKV"
      },
      "execution_count": 7,
      "outputs": []
    },
    {
      "cell_type": "code",
      "source": [
        "from sklearn.model_selection import train_test_split\n",
        "def divide_data_train_test(data, train_perc):\n",
        "\n",
        "  X_train, X_test, y_train, y_test = train_test_split(data[0], data[1], test_size=1-train_perc, random_state=42, stratify=data[1]) # makes same split everytime\n",
        "  \n",
        "  return (X_train, y_train), (X_test, y_test)"
      ],
      "metadata": {
        "id": "epy78G_XDmW2"
      },
      "execution_count": 8,
      "outputs": []
    },
    {
      "cell_type": "code",
      "source": [
        "folderGood = \"drive/My Drive/Masterthesis/data/normal_data\"\n",
        "folderBad = \"drive/My Drive/Masterthesis/data/skanner_fake_errors/errors\"\n",
        "fnamesG = list(fname for fname in os.listdir(folderGood))\n",
        "fnamesB = list(fname for fname in os.listdir(folderBad))\n",
        "\n",
        "imgsGood = load_images_preprocess_batch(folderGood, fnamesG, 227) # 227 for AlexNet, 224 for DenseNet\n",
        "imgsBad = load_images_preprocess_batch(folderBad, fnamesB, 227)\n",
        "\n",
        "dataset = create_data_set(imgsBad, imgsGood)\n",
        "\n",
        "#train_data_autoenc = fnames[0:int(len(fnames)*0.7)]\n",
        "#test_data_autoenc = fnames[int(len(fnames)*0.7):]\n",
        "\n",
        "#print(len(train_data_autoenc), len(test_data_autoenc))"
      ],
      "metadata": {
        "id": "toMOBsErPmfR"
      },
      "execution_count": 9,
      "outputs": []
    },
    {
      "cell_type": "code",
      "source": [
        "train, test = divide_data_train_test(dataset, 0.7)"
      ],
      "metadata": {
        "id": "RJ_h7viGBwc2"
      },
      "execution_count": 10,
      "outputs": []
    },
    {
      "cell_type": "code",
      "source": [
        "def generate_confusion_data(testx, testy, model):\n",
        "  y_pred = []  # store predicted labels\n",
        "  y_true = []  # store true labels\n",
        "\n",
        "  # iterate over the dataset\n",
        "  for i in range(len(testx)):   # use dataset.unbatch() with repeat\n",
        "    # append true labels\n",
        "    y_true.append(testy[i])\n",
        "    # compute predictions\n",
        "    img_tensor = np.expand_dims(testx[i], axis=0)\n",
        "    preds = model.predict(img_tensor)\n",
        "    # append predicted labels\n",
        "    y_pred.append((1 if preds > 0.5 else 0))\n",
        "    #y_pred.append(preds)\n",
        "\n",
        "  # convert the true and predicted labels into tensors\n",
        "  correct_labels = tf.concat([item for item in y_true], axis = 0)\n",
        "  predicted_labels = tf.concat([item for item in y_pred], axis = 0)\n",
        "\n",
        "  return (correct_labels, predicted_labels)"
      ],
      "metadata": {
        "id": "WT5UpFIiPV_M"
      },
      "execution_count": 11,
      "outputs": []
    },
    {
      "cell_type": "code",
      "source": [
        "def print_cm():\n",
        "  labels = [\"Good data\", \"Fault data\"]\n",
        "\n",
        "  y_test, y_pred = generate_confusion_data(test_x, test_y)\n",
        "\n",
        "  cm = confusion_matrix(y_test, y_pred)\n",
        "\n",
        "  disp = ConfusionMatrixDisplay(confusion_matrix=cm, display_labels=labels)\n",
        "\n",
        "  disp.plot(cmap=plt.cm.Blues)\n",
        "  plt.show()"
      ],
      "metadata": {
        "id": "a0ffe6RjPmss"
      },
      "execution_count": 12,
      "outputs": []
    },
    {
      "cell_type": "markdown",
      "source": [
        "### Cross validation"
      ],
      "metadata": {
        "id": "zAisFPGePxXO"
      }
    },
    {
      "cell_type": "code",
      "source": [
        "def kfold_cross_validation(k = 2):\n",
        "\n",
        "  validation_accuracy = []\n",
        "  validation_loss = []\n",
        "  training_accuracy = []\n",
        "  training_loss = []\n",
        "  auc = []\n",
        "  f1 = []\n",
        "\n",
        "  skf = StratifiedKFold(n_splits=k)\n",
        "  skf.get_n_splits(train[0], train[1])\n",
        "  splitnr = 1\n",
        "\n",
        "  for train_index, test_index in skf.split(train[0], train[1]):\n",
        "    #print(\"TRAIN:\", train_index, \"TEST:\", test_index)\n",
        "    \n",
        "    print(\"Starting split \", splitnr)\n",
        "    splitnr += 1\n",
        "\n",
        "    X_train, X_test = [train[0][i] for i in train_index], [train[0][i] for i in test_index]\n",
        "    y_train, y_test = [train[1][i] for i in train_index], [train[1][i] for i in test_index]\n",
        "\n",
        "    train_x = np.asarray(X_train)\n",
        "    train_y = np.asarray(y_train)\n",
        "    validation_x = np.asarray(X_test)\n",
        "    validation_y = np.asarray(y_test)\n",
        "    validata = (validation_x, validation_y)\n",
        "\n",
        "\n",
        "    model = create_alexnet()\n",
        "\n",
        "    history = model.fit(train_x,\n",
        "                      train_y,\n",
        "                      epochs=5,\n",
        "                      batch_size=32,\n",
        "                      validation_data=validata,\n",
        "                      validation_freq=1)\n",
        "    \n",
        "    validation_accuracy.append(history.history['val_accuracy'])\n",
        "    validation_loss.append(history.history['val_loss'])\n",
        "    training_accuracy.append(history.history['accuracy'])\n",
        "    training_loss.append(history.history['loss'])\n",
        "\n",
        "    y_test, y_pred = generate_confusion_data(validation_x, validation_y, model)\n",
        "    \n",
        "    auc.append(roc_auc_score(y_test, y_pred))\n",
        "    f1.append(f1_score(y_test, y_pred))\n",
        "\n",
        "\n",
        "  return (training_accuracy, validation_accuracy), (training_loss, validation_loss), auc, f1"
      ],
      "metadata": {
        "id": "9BVCKEUX8QB7"
      },
      "execution_count": 23,
      "outputs": []
    },
    {
      "cell_type": "code",
      "source": [
        "acc, loss, auc, f1 = kfold_cross_validation()"
      ],
      "metadata": {
        "colab": {
          "base_uri": "https://localhost:8080/"
        },
        "id": "eHPsEc6OSpiy",
        "outputId": "8a25466e-7311-4cc0-cd4c-3e040b036532"
      },
      "execution_count": 24,
      "outputs": [
        {
          "output_type": "stream",
          "name": "stdout",
          "text": [
            "Starting split  1\n",
            "Epoch 1/5\n",
            "4/4 [==============================] - 27s 7s/step - loss: 2.4084 - accuracy: 0.6772 - val_loss: 0.6121 - val_accuracy: 0.8268\n",
            "Epoch 2/5\n",
            "4/4 [==============================] - 26s 7s/step - loss: 2.0608 - accuracy: 0.7087 - val_loss: 0.5890 - val_accuracy: 0.8268\n",
            "Epoch 3/5\n",
            "4/4 [==============================] - 26s 7s/step - loss: 2.2318 - accuracy: 0.7323 - val_loss: 0.6046 - val_accuracy: 0.8268\n",
            "Epoch 4/5\n",
            "4/4 [==============================] - 25s 7s/step - loss: 1.2908 - accuracy: 0.7795 - val_loss: 0.5835 - val_accuracy: 0.8268\n",
            "Epoch 5/5\n",
            "4/4 [==============================] - 25s 7s/step - loss: 0.9854 - accuracy: 0.8031 - val_loss: 0.5939 - val_accuracy: 0.8976\n",
            "1/1 [==============================] - 0s 207ms/step\n",
            "1/1 [==============================] - 0s 84ms/step\n",
            "1/1 [==============================] - 0s 84ms/step\n",
            "1/1 [==============================] - 0s 79ms/step\n",
            "1/1 [==============================] - 0s 83ms/step\n",
            "1/1 [==============================] - 0s 87ms/step\n",
            "1/1 [==============================] - 0s 83ms/step\n",
            "1/1 [==============================] - 0s 84ms/step\n",
            "1/1 [==============================] - 0s 84ms/step\n",
            "1/1 [==============================] - 0s 84ms/step\n",
            "1/1 [==============================] - 0s 83ms/step\n",
            "1/1 [==============================] - 0s 80ms/step\n",
            "1/1 [==============================] - 0s 79ms/step\n",
            "1/1 [==============================] - 0s 84ms/step\n",
            "1/1 [==============================] - 0s 83ms/step\n",
            "1/1 [==============================] - 0s 81ms/step\n",
            "1/1 [==============================] - 0s 80ms/step\n",
            "1/1 [==============================] - 0s 79ms/step\n",
            "1/1 [==============================] - 0s 81ms/step\n",
            "1/1 [==============================] - 0s 84ms/step\n",
            "1/1 [==============================] - 0s 81ms/step\n",
            "1/1 [==============================] - 0s 79ms/step\n",
            "1/1 [==============================] - 0s 80ms/step\n",
            "1/1 [==============================] - 0s 83ms/step\n",
            "1/1 [==============================] - 0s 81ms/step\n",
            "1/1 [==============================] - 0s 88ms/step\n",
            "1/1 [==============================] - 0s 93ms/step\n",
            "1/1 [==============================] - 0s 79ms/step\n",
            "1/1 [==============================] - 0s 83ms/step\n",
            "1/1 [==============================] - 0s 80ms/step\n",
            "1/1 [==============================] - 0s 87ms/step\n",
            "1/1 [==============================] - 0s 83ms/step\n",
            "1/1 [==============================] - 0s 87ms/step\n",
            "1/1 [==============================] - 0s 86ms/step\n",
            "1/1 [==============================] - 0s 88ms/step\n",
            "1/1 [==============================] - 0s 88ms/step\n",
            "1/1 [==============================] - 0s 84ms/step\n",
            "1/1 [==============================] - 0s 81ms/step\n",
            "1/1 [==============================] - 0s 104ms/step\n",
            "1/1 [==============================] - 0s 131ms/step\n",
            "1/1 [==============================] - 0s 122ms/step\n",
            "1/1 [==============================] - 0s 140ms/step\n",
            "1/1 [==============================] - 0s 128ms/step\n",
            "1/1 [==============================] - 0s 138ms/step\n",
            "1/1 [==============================] - 0s 139ms/step\n",
            "1/1 [==============================] - 0s 137ms/step\n",
            "1/1 [==============================] - 0s 147ms/step\n",
            "1/1 [==============================] - 0s 133ms/step\n",
            "1/1 [==============================] - 0s 137ms/step\n",
            "1/1 [==============================] - 0s 131ms/step\n",
            "1/1 [==============================] - 0s 136ms/step\n",
            "1/1 [==============================] - 0s 134ms/step\n",
            "1/1 [==============================] - 0s 144ms/step\n",
            "1/1 [==============================] - 0s 124ms/step\n",
            "1/1 [==============================] - 0s 131ms/step\n",
            "1/1 [==============================] - 0s 137ms/step\n",
            "1/1 [==============================] - 0s 137ms/step\n",
            "1/1 [==============================] - 0s 143ms/step\n",
            "1/1 [==============================] - 0s 141ms/step\n",
            "1/1 [==============================] - 0s 122ms/step\n",
            "1/1 [==============================] - 0s 121ms/step\n",
            "1/1 [==============================] - 0s 80ms/step\n",
            "1/1 [==============================] - 0s 83ms/step\n",
            "1/1 [==============================] - 0s 84ms/step\n",
            "1/1 [==============================] - 0s 80ms/step\n",
            "1/1 [==============================] - 0s 83ms/step\n",
            "1/1 [==============================] - 0s 80ms/step\n",
            "1/1 [==============================] - 0s 81ms/step\n",
            "1/1 [==============================] - 0s 80ms/step\n",
            "1/1 [==============================] - 0s 83ms/step\n",
            "1/1 [==============================] - 0s 81ms/step\n",
            "1/1 [==============================] - 0s 80ms/step\n",
            "1/1 [==============================] - 0s 88ms/step\n",
            "1/1 [==============================] - 0s 83ms/step\n",
            "1/1 [==============================] - 0s 79ms/step\n",
            "1/1 [==============================] - 0s 82ms/step\n",
            "1/1 [==============================] - 0s 80ms/step\n",
            "1/1 [==============================] - 0s 80ms/step\n",
            "1/1 [==============================] - 0s 81ms/step\n",
            "1/1 [==============================] - 0s 83ms/step\n",
            "1/1 [==============================] - 0s 93ms/step\n",
            "1/1 [==============================] - 0s 83ms/step\n",
            "1/1 [==============================] - 0s 80ms/step\n",
            "1/1 [==============================] - 0s 91ms/step\n",
            "1/1 [==============================] - 0s 79ms/step\n",
            "1/1 [==============================] - 0s 83ms/step\n",
            "1/1 [==============================] - 0s 83ms/step\n",
            "1/1 [==============================] - 0s 83ms/step\n",
            "1/1 [==============================] - 0s 95ms/step\n",
            "1/1 [==============================] - 0s 82ms/step\n",
            "1/1 [==============================] - 0s 79ms/step\n",
            "1/1 [==============================] - 0s 84ms/step\n",
            "1/1 [==============================] - 0s 89ms/step\n",
            "1/1 [==============================] - 0s 79ms/step\n",
            "1/1 [==============================] - 0s 81ms/step\n",
            "1/1 [==============================] - 0s 80ms/step\n",
            "1/1 [==============================] - 0s 81ms/step\n",
            "1/1 [==============================] - 0s 82ms/step\n",
            "1/1 [==============================] - 0s 89ms/step\n",
            "1/1 [==============================] - 0s 86ms/step\n",
            "1/1 [==============================] - 0s 172ms/step\n",
            "1/1 [==============================] - 0s 227ms/step\n",
            "1/1 [==============================] - 0s 147ms/step\n",
            "1/1 [==============================] - 0s 93ms/step\n",
            "1/1 [==============================] - 0s 96ms/step\n",
            "1/1 [==============================] - 0s 86ms/step\n",
            "1/1 [==============================] - 0s 92ms/step\n",
            "1/1 [==============================] - 0s 88ms/step\n",
            "1/1 [==============================] - 0s 91ms/step\n",
            "1/1 [==============================] - 0s 92ms/step\n",
            "1/1 [==============================] - 0s 103ms/step\n",
            "1/1 [==============================] - 0s 103ms/step\n",
            "1/1 [==============================] - 0s 89ms/step\n",
            "1/1 [==============================] - 0s 92ms/step\n",
            "1/1 [==============================] - 0s 91ms/step\n",
            "1/1 [==============================] - 0s 114ms/step\n",
            "1/1 [==============================] - 0s 91ms/step\n",
            "1/1 [==============================] - 0s 92ms/step\n",
            "1/1 [==============================] - 0s 91ms/step\n",
            "1/1 [==============================] - 0s 94ms/step\n",
            "1/1 [==============================] - 0s 100ms/step\n",
            "1/1 [==============================] - 0s 90ms/step\n",
            "1/1 [==============================] - 0s 98ms/step\n",
            "1/1 [==============================] - 0s 96ms/step\n",
            "1/1 [==============================] - 0s 93ms/step\n",
            "1/1 [==============================] - 0s 92ms/step\n",
            "1/1 [==============================] - 0s 95ms/step\n",
            "Starting split  2\n",
            "Epoch 1/5\n",
            "4/4 [==============================] - 29s 7s/step - loss: 2.5817 - accuracy: 0.6063 - val_loss: 0.5586 - val_accuracy: 0.8189\n",
            "Epoch 2/5\n",
            "4/4 [==============================] - 26s 7s/step - loss: 1.8430 - accuracy: 0.7638 - val_loss: 0.5733 - val_accuracy: 0.8189\n",
            "Epoch 3/5\n",
            "4/4 [==============================] - 28s 8s/step - loss: 1.8210 - accuracy: 0.7323 - val_loss: 0.5658 - val_accuracy: 0.8189\n",
            "Epoch 4/5\n",
            "4/4 [==============================] - 26s 7s/step - loss: 1.3282 - accuracy: 0.7795 - val_loss: 0.5819 - val_accuracy: 0.8189\n",
            "Epoch 5/5\n",
            "4/4 [==============================] - 26s 7s/step - loss: 1.2822 - accuracy: 0.7874 - val_loss: 0.6053 - val_accuracy: 0.9055\n",
            "1/1 [==============================] - 0s 213ms/step\n",
            "1/1 [==============================] - 0s 83ms/step\n",
            "1/1 [==============================] - 0s 83ms/step\n",
            "1/1 [==============================] - 0s 82ms/step\n",
            "1/1 [==============================] - 0s 80ms/step\n",
            "1/1 [==============================] - 0s 83ms/step\n",
            "1/1 [==============================] - 0s 80ms/step\n",
            "1/1 [==============================] - 0s 82ms/step\n",
            "1/1 [==============================] - 0s 81ms/step\n",
            "1/1 [==============================] - 0s 79ms/step\n",
            "1/1 [==============================] - 0s 82ms/step\n",
            "1/1 [==============================] - 0s 84ms/step\n",
            "1/1 [==============================] - 0s 83ms/step\n",
            "1/1 [==============================] - 0s 84ms/step\n",
            "1/1 [==============================] - 0s 91ms/step\n",
            "1/1 [==============================] - 0s 86ms/step\n",
            "1/1 [==============================] - 0s 80ms/step\n",
            "1/1 [==============================] - 0s 80ms/step\n",
            "1/1 [==============================] - 0s 82ms/step\n",
            "1/1 [==============================] - 0s 80ms/step\n",
            "1/1 [==============================] - 0s 79ms/step\n",
            "1/1 [==============================] - 0s 80ms/step\n",
            "1/1 [==============================] - 0s 89ms/step\n",
            "1/1 [==============================] - 0s 82ms/step\n",
            "1/1 [==============================] - 0s 86ms/step\n",
            "1/1 [==============================] - 0s 83ms/step\n",
            "1/1 [==============================] - 0s 81ms/step\n",
            "1/1 [==============================] - 0s 79ms/step\n",
            "1/1 [==============================] - 0s 83ms/step\n",
            "1/1 [==============================] - 0s 86ms/step\n",
            "1/1 [==============================] - 0s 80ms/step\n",
            "1/1 [==============================] - 0s 81ms/step\n",
            "1/1 [==============================] - 0s 86ms/step\n",
            "1/1 [==============================] - 0s 81ms/step\n",
            "1/1 [==============================] - 0s 81ms/step\n",
            "1/1 [==============================] - 0s 86ms/step\n",
            "1/1 [==============================] - 0s 85ms/step\n",
            "1/1 [==============================] - 0s 88ms/step\n",
            "1/1 [==============================] - 0s 80ms/step\n",
            "1/1 [==============================] - 0s 89ms/step\n",
            "1/1 [==============================] - 0s 82ms/step\n",
            "1/1 [==============================] - 0s 83ms/step\n",
            "1/1 [==============================] - 0s 84ms/step\n",
            "1/1 [==============================] - 0s 83ms/step\n",
            "1/1 [==============================] - 0s 81ms/step\n",
            "1/1 [==============================] - 0s 85ms/step\n",
            "1/1 [==============================] - 0s 81ms/step\n",
            "1/1 [==============================] - 0s 102ms/step\n",
            "1/1 [==============================] - 0s 82ms/step\n",
            "1/1 [==============================] - 0s 85ms/step\n",
            "1/1 [==============================] - 0s 84ms/step\n",
            "1/1 [==============================] - 0s 82ms/step\n",
            "1/1 [==============================] - 0s 86ms/step\n",
            "1/1 [==============================] - 0s 82ms/step\n",
            "1/1 [==============================] - 0s 81ms/step\n",
            "1/1 [==============================] - 0s 92ms/step\n",
            "1/1 [==============================] - 0s 86ms/step\n",
            "1/1 [==============================] - 0s 83ms/step\n",
            "1/1 [==============================] - 0s 83ms/step\n",
            "1/1 [==============================] - 0s 85ms/step\n",
            "1/1 [==============================] - 0s 84ms/step\n",
            "1/1 [==============================] - 0s 85ms/step\n",
            "1/1 [==============================] - 0s 83ms/step\n",
            "1/1 [==============================] - 0s 127ms/step\n",
            "1/1 [==============================] - 0s 85ms/step\n",
            "1/1 [==============================] - 0s 82ms/step\n",
            "1/1 [==============================] - 0s 98ms/step\n",
            "1/1 [==============================] - 0s 82ms/step\n",
            "1/1 [==============================] - 0s 81ms/step\n",
            "1/1 [==============================] - 0s 80ms/step\n",
            "1/1 [==============================] - 0s 82ms/step\n",
            "1/1 [==============================] - 0s 90ms/step\n",
            "1/1 [==============================] - 0s 81ms/step\n",
            "1/1 [==============================] - 0s 87ms/step\n",
            "1/1 [==============================] - 0s 80ms/step\n",
            "1/1 [==============================] - 0s 85ms/step\n",
            "1/1 [==============================] - 0s 84ms/step\n",
            "1/1 [==============================] - 0s 82ms/step\n",
            "1/1 [==============================] - 0s 84ms/step\n",
            "1/1 [==============================] - 0s 82ms/step\n",
            "1/1 [==============================] - 0s 85ms/step\n",
            "1/1 [==============================] - 0s 80ms/step\n",
            "1/1 [==============================] - 0s 83ms/step\n",
            "1/1 [==============================] - 0s 83ms/step\n",
            "1/1 [==============================] - 0s 82ms/step\n",
            "1/1 [==============================] - 0s 81ms/step\n",
            "1/1 [==============================] - 0s 85ms/step\n",
            "1/1 [==============================] - 0s 89ms/step\n",
            "1/1 [==============================] - 0s 81ms/step\n",
            "1/1 [==============================] - 0s 83ms/step\n",
            "1/1 [==============================] - 0s 86ms/step\n",
            "1/1 [==============================] - 0s 83ms/step\n",
            "1/1 [==============================] - 0s 84ms/step\n",
            "1/1 [==============================] - 0s 82ms/step\n",
            "1/1 [==============================] - 0s 82ms/step\n",
            "1/1 [==============================] - 0s 82ms/step\n",
            "1/1 [==============================] - 0s 85ms/step\n",
            "1/1 [==============================] - 0s 83ms/step\n",
            "1/1 [==============================] - 0s 84ms/step\n",
            "1/1 [==============================] - 0s 81ms/step\n",
            "1/1 [==============================] - 0s 86ms/step\n",
            "1/1 [==============================] - 0s 83ms/step\n",
            "1/1 [==============================] - 0s 88ms/step\n",
            "1/1 [==============================] - 0s 81ms/step\n",
            "1/1 [==============================] - 0s 91ms/step\n",
            "1/1 [==============================] - 0s 81ms/step\n",
            "1/1 [==============================] - 0s 81ms/step\n",
            "1/1 [==============================] - 0s 84ms/step\n",
            "1/1 [==============================] - 0s 84ms/step\n",
            "1/1 [==============================] - 0s 82ms/step\n",
            "1/1 [==============================] - 0s 82ms/step\n",
            "1/1 [==============================] - 0s 83ms/step\n",
            "1/1 [==============================] - 0s 91ms/step\n",
            "1/1 [==============================] - 0s 83ms/step\n",
            "1/1 [==============================] - 0s 85ms/step\n",
            "1/1 [==============================] - 0s 83ms/step\n",
            "1/1 [==============================] - 0s 81ms/step\n",
            "1/1 [==============================] - 0s 82ms/step\n",
            "1/1 [==============================] - 0s 88ms/step\n",
            "1/1 [==============================] - 0s 92ms/step\n",
            "1/1 [==============================] - 0s 85ms/step\n",
            "1/1 [==============================] - 0s 82ms/step\n",
            "1/1 [==============================] - 0s 82ms/step\n",
            "1/1 [==============================] - 0s 85ms/step\n",
            "1/1 [==============================] - 0s 81ms/step\n",
            "1/1 [==============================] - 0s 85ms/step\n",
            "1/1 [==============================] - 0s 81ms/step\n"
          ]
        }
      ]
    },
    {
      "cell_type": "code",
      "source": [
        "acc, loss, auc, f1"
      ],
      "metadata": {
        "colab": {
          "base_uri": "https://localhost:8080/"
        },
        "id": "emXaJNV7WAJe",
        "outputId": "1bf2140e-0a22-4eeb-d367-618c159f49af"
      },
      "execution_count": 25,
      "outputs": [
        {
          "output_type": "execute_result",
          "data": {
            "text/plain": [
              "(([[0.6771653294563293,\n",
              "    0.7086614370346069,\n",
              "    0.7322834730148315,\n",
              "    0.7795275449752808,\n",
              "    0.8031495809555054],\n",
              "   [0.6062992215156555,\n",
              "    0.7637795209884644,\n",
              "    0.7322834730148315,\n",
              "    0.7795275449752808,\n",
              "    0.787401556968689]],\n",
              "  [[0.8267716765403748,\n",
              "    0.8267716765403748,\n",
              "    0.8267716765403748,\n",
              "    0.8267716765403748,\n",
              "    0.8976377844810486],\n",
              "   [0.8188976645469666,\n",
              "    0.8188976645469666,\n",
              "    0.8188976645469666,\n",
              "    0.8188976645469666,\n",
              "    0.9055117964744568]]),\n",
              " ([[2.4083967208862305,\n",
              "    2.0607552528381348,\n",
              "    2.231804609298706,\n",
              "    1.2908122539520264,\n",
              "    0.985421359539032],\n",
              "   [2.5816597938537598,\n",
              "    1.8429739475250244,\n",
              "    1.820986032485962,\n",
              "    1.3282129764556885,\n",
              "    1.2822469472885132]],\n",
              "  [[0.6120842099189758,\n",
              "    0.5890284180641174,\n",
              "    0.6045865416526794,\n",
              "    0.5834593772888184,\n",
              "    0.5938582420349121],\n",
              "   [0.5585650205612183,\n",
              "    0.5733389258384705,\n",
              "    0.5657985806465149,\n",
              "    0.5819184184074402,\n",
              "    0.6052905321121216]]),\n",
              " [0.7045454545454546, 0.7391304347826086],\n",
              " [0.5806451612903226, 0.6470588235294118])"
            ]
          },
          "metadata": {},
          "execution_count": 25
        }
      ]
    },
    {
      "cell_type": "code",
      "source": [
        "f,ax=plt.subplots(1,4,figsize=(30,5)) \n",
        "\n",
        "#for i in range(2):\n",
        "ax[0].plot(acc[0][0], label='Training accuracy')\n",
        "ax[0].plot(acc[0][1], label='Training accuracy')\n",
        "  #ax[0].plot(acc[1][i], label='Validation accuracy')\n",
        "\n",
        "ax[1].plot(acc[1][0], label='Val accuracy')\n",
        "ax[1].plot(acc[1][1], label='Val accuracy')\n",
        "\n",
        "ax[2].plot(np.mean(acc[0], axis=0), label='Train accuracy mean')\n",
        "\n",
        "ax[3].plot(np.mean(acc[1], axis=0), label='Validation accuracy mean')\n",
        "\n",
        "#ax[1].plot(np.mean(acc[0], axis=0), label='Validation accuracy mean')\n",
        "#ax.legend(loc='best')"
      ],
      "metadata": {
        "colab": {
          "base_uri": "https://localhost:8080/",
          "height": 337
        },
        "id": "smicFu_vQx8t",
        "outputId": "a2f03b60-8993-4fd1-f02f-e3187c5e6357"
      },
      "execution_count": 41,
      "outputs": [
        {
          "output_type": "execute_result",
          "data": {
            "text/plain": [
              "[<matplotlib.lines.Line2D at 0x7fe6935bebb0>]"
            ]
          },
          "metadata": {},
          "execution_count": 41
        },
        {
          "output_type": "display_data",
          "data": {
            "text/plain": [
              "<Figure size 2160x360 with 4 Axes>"
            ],
            "image/png": "[encoded data removed]"
          },
          "metadata": {
            "needs_background": "light"
          }
        }
      ]
    },
    {
      "cell_type": "code",
      "source": [
        "acc[1][0]"
      ],
      "metadata": {
        "colab": {
          "base_uri": "https://localhost:8080/"
        },
        "id": "LWjDBdrkYlx0",
        "outputId": "edc351f2-9f0f-4364-b01f-cd2713b424f2"
      },
      "execution_count": 36,
      "outputs": [
        {
          "output_type": "execute_result",
          "data": {
            "text/plain": [
              "[0.8267716765403748,\n",
              " 0.8267716765403748,\n",
              " 0.8267716765403748,\n",
              " 0.8267716765403748,\n",
              " 0.8976377844810486]"
            ]
          },
          "metadata": {},
          "execution_count": 36
        }
      ]
    },
    {
      "cell_type": "markdown",
      "source": [
        "### Hyperparameter tuning"
      ],
      "metadata": {
        "id": "EIW9UqorWTKv"
      }
    },
    {
      "cell_type": "code",
      "source": [
        "def kfold_cross_validation(k = 2):\n",
        "\n",
        "  validation_accuracy = []\n",
        "  validation_loss = []\n",
        "  training_accuracy = []\n",
        "  training_loss = []\n",
        "  auc = []\n",
        "  f1 = []\n",
        "\n",
        "  skf = StratifiedKFold(n_splits=k)\n",
        "  skf.get_n_splits(train[0], train[1])\n",
        "  splitnr = 1\n",
        "\n",
        "  for train_index, test_index in skf.split(train[0], train[1]):\n",
        "    #print(\"TRAIN:\", train_index, \"TEST:\", test_index)\n",
        "    \n",
        "    print(\"Starting split \", splitnr)\n",
        "    splitnr += 1\n",
        "\n",
        "    X_train, X_test = [train[0][i] for i in train_index], [train[0][i] for i in test_index]\n",
        "    y_train, y_test = [train[1][i] for i in train_index], [train[1][i] for i in test_index]\n",
        "\n",
        "    train_x = np.asarray(X_train)\n",
        "    train_y = np.asarray(y_train)\n",
        "    validation_x = np.asarray(X_test)\n",
        "    validation_y = np.asarray(y_test)\n",
        "    validata = (validation_x, validation_y)\n",
        "\n",
        "\n",
        "    model = create_alexnet()\n",
        "\n",
        "    history = model.fit(train_x,\n",
        "                      train_y,\n",
        "                      epochs=5,\n",
        "                      batch_size=16,\n",
        "                      validation_data=validata,\n",
        "                      validation_freq=1)\n",
        "    \n",
        "    validation_accuracy.append(history.history['val_accuracy'][len(history.history['val_accuracy'])-1])\n",
        "    validation_loss.append(history.history['val_loss'][len(history.history['val_loss'])-1])\n",
        "    training_accuracy.append(history.history['accuracy'][len(history.history['accuracy'])-1])\n",
        "    training_loss.append(history.history['loss'][len(history.history['loss'])-1])\n",
        "\n",
        "    y_test, y_pred = generate_confusion_data(validation_x, validation_y, model)\n",
        "    \n",
        "    auc.append(roc_auc_score(y_test, y_pred))\n",
        "    f1.append(f1_score(y_test, y_pred))\n",
        "\n",
        "\n",
        "  return (np.mean(training_accuracy), np.mean(validation_accuracy)), (np.mean(training_loss), np.mean(validation_loss)), np.mean(auc), np.mean(f1)"
      ],
      "metadata": {
        "id": "SbXCrtuaWR5T"
      },
      "execution_count": null,
      "outputs": []
    }
  ]
}