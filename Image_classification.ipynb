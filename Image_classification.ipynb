{
  "nbformat": 4,
  "nbformat_minor": 0,
  "metadata": {
    "colab": {
      "provenance": [],
      "authorship_tag": "ABX9TyPfz5ktOaowd6R7d47H/9/m"
    },
    "kernelspec": {
      "name": "python3",
      "display_name": "Python 3"
    },
    "language_info": {
      "name": "python"
    },
    "accelerator": "GPU",
    "gpuClass": "standard"
  },
  "cells": [
    {
      "cell_type": "code",
      "execution_count": 43,
      "metadata": {
        "id": "9pdeAQrHDeuR"
      },
      "outputs": [],
      "source": [
        "import tensorflow as tf\n",
        "import timeit\n",
        "import matplotlib.pyplot as plt\n",
        "import os\n",
        "import time\n",
        "import numpy as np\n",
        "import cv2\n",
        "import random\n",
        "#!pip install pyod\n",
        "tf.device('/device:GPU:0')\n",
        "from tensorboard.plugins.hparams import api as hp\n",
        "from tensorflow.keras.applications.densenet import DenseNet169\n",
        "from tensorflow.keras.models import Model"
      ]
    },
    {
      "cell_type": "code",
      "source": [
        "tf.__version__"
      ],
      "metadata": {
        "colab": {
          "base_uri": "https://localhost:8080/",
          "height": 35
        },
        "id": "x6ZfaB9X8fNp",
        "outputId": "4c6cf2b5-1318-4408-b11e-cd93a57b8c09"
      },
      "execution_count": 2,
      "outputs": [
        {
          "output_type": "execute_result",
          "data": {
            "text/plain": [
              "'2.9.2'"
            ],
            "application/vnd.google.colaboratory.intrinsic+json": {
              "type": "string"
            }
          },
          "metadata": {},
          "execution_count": 2
        }
      ]
    },
    {
      "cell_type": "code",
      "source": [
        "from google.colab import drive\n",
        "drive.mount('/content/drive')"
      ],
      "metadata": {
        "colab": {
          "base_uri": "https://localhost:8080/"
        },
        "id": "STI8twBIOowd",
        "outputId": "f62d5eda-d1ac-489c-aebc-f3cf18ec4868"
      },
      "execution_count": 3,
      "outputs": [
        {
          "output_type": "stream",
          "name": "stdout",
          "text": [
            "Mounted at /content/drive\n"
          ]
        }
      ]
    },
    {
      "cell_type": "code",
      "source": [
        "\n",
        "\n",
        "modelDense = DenseNet169()#weights='imagenet'\n",
        "\n",
        "# remove last layers to extract features...\n",
        "\n",
        "feature_layer = modelDense.layers[-2].output\n",
        "\n",
        "last_layer = tf.keras.layers.Dense(1, activation='sigmoid')(feature_layer)\n",
        "\n",
        "model = tf.keras.Model(inputs = modelDense.input, outputs = last_layer)\n",
        "#model_featureEX.summary()\n",
        "\n",
        "model.compile(loss='binary_crossentropy', optimizer=tf.optimizers.SGD(learning_rate=0.001), metrics=['accuracy'])\n",
        "\n",
        "#model.summary()"
      ],
      "metadata": {
        "colab": {
          "base_uri": "https://localhost:8080/"
        },
        "id": "upJrEEqDOxjo",
        "outputId": "b904ef39-3cb0-4be1-cb86-28066a5fe90e"
      },
      "execution_count": 4,
      "outputs": [
        {
          "output_type": "stream",
          "name": "stdout",
          "text": [
            "Downloading data from https://storage.googleapis.com/tensorflow/keras-applications/densenet/densenet169_weights_tf_dim_ordering_tf_kernels.h5\n",
            "58541896/58541896 [==============================] - 4s 0us/step\n"
          ]
        }
      ]
    },
    {
      "cell_type": "code",
      "source": [
        "modelAlex = tf.keras.models.Sequential([\n",
        "    tf.keras.layers.Conv2D(filters=96, kernel_size=(11,11), strides=(4,4), activation='relu', input_shape=(227,227,3)),\n",
        "    tf.keras.layers.BatchNormalization(),\n",
        "    tf.keras.layers.MaxPool2D(pool_size=(3,3), strides=(2,2)),\n",
        "    tf.keras.layers.Conv2D(filters=256, kernel_size=(5,5), strides=(1,1), activation='relu', padding=\"same\"),\n",
        "    tf.keras.layers.BatchNormalization(),\n",
        "    tf.keras.layers.MaxPool2D(pool_size=(3,3), strides=(2,2)),\n",
        "    tf.keras.layers.Conv2D(filters=384, kernel_size=(3,3), strides=(1,1), activation='relu', padding=\"same\"),\n",
        "    tf.keras.layers.BatchNormalization(),\n",
        "    tf.keras.layers.Conv2D(filters=384, kernel_size=(3,3), strides=(1,1), activation='relu', padding=\"same\"),\n",
        "    tf.keras.layers.BatchNormalization(),\n",
        "    tf.keras.layers.Conv2D(filters=256, kernel_size=(3,3), strides=(1,1), activation='relu', padding=\"same\"),\n",
        "    tf.keras.layers.BatchNormalization(),\n",
        "    tf.keras.layers.MaxPool2D(pool_size=(3,3), strides=(2,2)),\n",
        "    tf.keras.layers.Flatten(),\n",
        "    tf.keras.layers.Dense(4096, activation='relu'),\n",
        "    tf.keras.layers.Dropout(0.8),\n",
        "    tf.keras.layers.Dense(4096, activation='relu'),\n",
        "    tf.keras.layers.Dropout(0.8),\n",
        "    tf.keras.layers.Dense(1, activation='sigmoid')\n",
        "])\n",
        "\n",
        "modelAlex.compile(loss='binary_crossentropy', optimizer=tf.optimizers.SGD(learning_rate=0.001), metrics=['accuracy'])"
      ],
      "metadata": {
        "id": "hYsK2TDAq45P"
      },
      "execution_count": 35,
      "outputs": []
    },
    {
      "cell_type": "code",
      "source": [
        "modelAlex.summary()"
      ],
      "metadata": {
        "colab": {
          "base_uri": "https://localhost:8080/"
        },
        "id": "PqfToLkUssqV",
        "outputId": "7906b886-c777-4596-ae84-f9eb9c4044f7"
      },
      "execution_count": 10,
      "outputs": [
        {
          "output_type": "stream",
          "name": "stdout",
          "text": [
            "Model: \"sequential_2\"\n",
            "_________________________________________________________________\n",
            " Layer (type)                Output Shape              Param #   \n",
            "=================================================================\n",
            " conv2d_10 (Conv2D)          (None, 55, 55, 96)        34944     \n",
            "                                                                 \n",
            " batch_normalization_10 (Bat  (None, 55, 55, 96)       384       \n",
            " chNormalization)                                                \n",
            "                                                                 \n",
            " max_pooling2d_6 (MaxPooling  (None, 27, 27, 96)       0         \n",
            " 2D)                                                             \n",
            "                                                                 \n",
            " conv2d_11 (Conv2D)          (None, 27, 27, 256)       614656    \n",
            "                                                                 \n",
            " batch_normalization_11 (Bat  (None, 27, 27, 256)      1024      \n",
            " chNormalization)                                                \n",
            "                                                                 \n",
            " max_pooling2d_7 (MaxPooling  (None, 13, 13, 256)      0         \n",
            " 2D)                                                             \n",
            "                                                                 \n",
            " conv2d_12 (Conv2D)          (None, 13, 13, 384)       885120    \n",
            "                                                                 \n",
            " batch_normalization_12 (Bat  (None, 13, 13, 384)      1536      \n",
            " chNormalization)                                                \n",
            "                                                                 \n",
            " conv2d_13 (Conv2D)          (None, 13, 13, 384)       1327488   \n",
            "                                                                 \n",
            " batch_normalization_13 (Bat  (None, 13, 13, 384)      1536      \n",
            " chNormalization)                                                \n",
            "                                                                 \n",
            " conv2d_14 (Conv2D)          (None, 13, 13, 256)       884992    \n",
            "                                                                 \n",
            " batch_normalization_14 (Bat  (None, 13, 13, 256)      1024      \n",
            " chNormalization)                                                \n",
            "                                                                 \n",
            " max_pooling2d_8 (MaxPooling  (None, 6, 6, 256)        0         \n",
            " 2D)                                                             \n",
            "                                                                 \n",
            " flatten_2 (Flatten)         (None, 9216)              0         \n",
            "                                                                 \n",
            " dense_7 (Dense)             (None, 4096)              37752832  \n",
            "                                                                 \n",
            " dropout_4 (Dropout)         (None, 4096)              0         \n",
            "                                                                 \n",
            " dense_8 (Dense)             (None, 4096)              16781312  \n",
            "                                                                 \n",
            " dropout_5 (Dropout)         (None, 4096)              0         \n",
            "                                                                 \n",
            " dense_9 (Dense)             (None, 1)                 4097      \n",
            "                                                                 \n",
            "=================================================================\n",
            "Total params: 58,290,945\n",
            "Trainable params: 58,288,193\n",
            "Non-trainable params: 2,752\n",
            "_________________________________________________________________\n"
          ]
        }
      ]
    },
    {
      "cell_type": "code",
      "source": [
        "def load_images_preprocess_batch(folder, fnames, resize):\n",
        "    images = []\n",
        "\n",
        "    \n",
        "    for filename in fnames:\n",
        "        img = cv2.imread(os.path.join(folder, filename))\n",
        "        if img is not None:\n",
        "            img = tf.image.per_image_standardization(img)\n",
        "            img = tf.image.resize(img, (resize, resize))\n",
        "            images.append(img)\n",
        "            \n",
        "    return images\n"
      ],
      "metadata": {
        "id": "3uzsSf_9PO8u"
      },
      "execution_count": 12,
      "outputs": []
    },
    {
      "cell_type": "code",
      "source": [
        "def create_data_set(class_one, class_two):\n",
        "  label1 = []\n",
        "  label2 = []\n",
        "\n",
        "\n",
        "  for i in range(len(class_one)):\n",
        "    label1.append(1)\n",
        "    img = class_one[i]\n",
        "    #img = tf.image.per_image_standardization(img)\n",
        "    #img = tf.image.resize(img, (227, 227))\n",
        "    class_one[i] = img\n",
        "\n",
        "\n",
        "  for i in range(len(class_two)):\n",
        "    label2.append(0)\n",
        "    img = class_two[i]\n",
        "    #img = tf.image.per_image_standardization(img)\n",
        "    #img = tf.image.resize(img, (227, 227))\n",
        "    class_two[i] = img\n",
        "\n",
        "  good_data = (class_one, label1)\n",
        "  bad_data = (class_two, label2)\n",
        "\n",
        "  comb_class = class_one + class_two\n",
        "  comb_lab = label1 + label2\n",
        "\n",
        "  z = list(zip(comb_class, comb_lab))\n",
        "\n",
        "  random.shuffle(z)\n",
        "\n",
        "  comb_class, comb_lab = zip(*z)\n",
        "\n",
        "  combined_data = (comb_class, comb_lab)\n",
        "\n",
        "  # need to shuffle\n",
        "\n",
        "  return combined_data"
      ],
      "metadata": {
        "id": "IX1ir1RdQaSw"
      },
      "execution_count": 13,
      "outputs": []
    },
    {
      "cell_type": "code",
      "source": [
        "def divide_data(data, train_perc, test_perc):\n",
        "  cut_train = int(len(data[0])*train_perc)\n",
        "  cut_test = int(len(data[0])*(1-test_perc))\n",
        "\n",
        "\n",
        "  train = (data[0][:cut_train], data[1][:cut_train])\n",
        "  test = (data[0][cut_train:cut_test], data[1][cut_train:cut_test])\n",
        "  val = (data[0][cut_test:], data[1][cut_test:])\n",
        "\n",
        "  return train, test, val"
      ],
      "metadata": {
        "id": "6l5JBaQ3Qeah"
      },
      "execution_count": 14,
      "outputs": []
    },
    {
      "cell_type": "code",
      "source": [
        "def divide_data_noval(data, train_perc):\n",
        "  cut_train = int(len(data[0])*train_perc)\n",
        "\n",
        "\n",
        "  train = (data[0][:cut_train], data[1][:cut_train])\n",
        "  test = (data[0][cut_train:], data[1][cut_train:])\n",
        "\n",
        "  return train, test"
      ],
      "metadata": {
        "id": "uwBsThhDPiKV"
      },
      "execution_count": 15,
      "outputs": []
    },
    {
      "cell_type": "code",
      "source": [
        "folderGood = \"drive/My Drive/Masterthesis/data/skanner_frames3_crop\"\n",
        "folderBad = \"drive/My Drive/Masterthesis/data/skanner_fake_errors/errors\"\n",
        "fnamesG = list(fname for fname in os.listdir(folderGood))\n",
        "fnamesB = list(fname for fname in os.listdir(folderBad))\n",
        "\n",
        "imgsGood = load_images_preprocess_batch(folderGood, fnamesG[0:100], 227)\n",
        "imgsBad = load_images_preprocess_batch(folderBad, fnamesB, 227)\n",
        "\n",
        "dataset = create_data_set(imgsBad, imgsGood)\n",
        "\n",
        "#train_data_autoenc = fnames[0:int(len(fnames)*0.7)]\n",
        "#test_data_autoenc = fnames[int(len(fnames)*0.7):]\n",
        "\n",
        "#print(len(train_data_autoenc), len(test_data_autoenc))"
      ],
      "metadata": {
        "id": "toMOBsErPmfR"
      },
      "execution_count": 17,
      "outputs": []
    },
    {
      "cell_type": "code",
      "source": [
        "train, test, val = divide_data(dataset, 0.8, 0.1)"
      ],
      "metadata": {
        "id": "QwajI2sCTIbK"
      },
      "execution_count": 9,
      "outputs": []
    },
    {
      "cell_type": "code",
      "source": [
        "train, test = divide_data_noval(dataset, 0.7)"
      ],
      "metadata": {
        "id": "Rfgg8jDLP68e"
      },
      "execution_count": 18,
      "outputs": []
    },
    {
      "cell_type": "code",
      "source": [
        "len(test[1])"
      ],
      "metadata": {
        "colab": {
          "base_uri": "https://localhost:8080/"
        },
        "id": "8wxIjWBidEIw",
        "outputId": "afe95b56-ff18-41b2-857b-90af26b99171"
      },
      "execution_count": 19,
      "outputs": [
        {
          "output_type": "execute_result",
          "data": {
            "text/plain": [
              "50"
            ]
          },
          "metadata": {},
          "execution_count": 19
        }
      ]
    },
    {
      "cell_type": "code",
      "source": [
        "train_x = np.asarray(train[0])\n",
        "train_y = np.asarray(train[1])\n",
        "#validation_x = np.asarray(val[0])\n",
        "#validation_y = np.asarray(val[1])\n",
        "#validata = (validation_x, validation_y)\n",
        "test_x = np.asarray(test[0])\n",
        "test_y = np.asarray(test[1])"
      ],
      "metadata": {
        "id": "eqwpE6DmRPrE"
      },
      "execution_count": 20,
      "outputs": []
    },
    {
      "cell_type": "code",
      "source": [
        "historyAlex = modelAlex.fit(train_x, train_y, epochs=30, batch_size=16)"
      ],
      "metadata": {
        "colab": {
          "base_uri": "https://localhost:8080/"
        },
        "id": "flaj-4PcvoaK",
        "outputId": "508ab350-ad46-4d89-fddc-2cecbdbadca5"
      },
      "execution_count": 36,
      "outputs": [
        {
          "output_type": "stream",
          "name": "stdout",
          "text": [
            "Epoch 1/30\n",
            "8/8 [==============================] - 23s 3s/step - loss: 3.1458 - accuracy: 0.5439\n",
            "Epoch 2/30\n",
            "8/8 [==============================] - 22s 3s/step - loss: 2.0279 - accuracy: 0.6842\n",
            "Epoch 3/30\n",
            "8/8 [==============================] - 20s 3s/step - loss: 1.9868 - accuracy: 0.6930\n",
            "Epoch 4/30\n",
            "8/8 [==============================] - 20s 2s/step - loss: 2.4110 - accuracy: 0.6404\n",
            "Epoch 5/30\n",
            "8/8 [==============================] - 23s 3s/step - loss: 2.3283 - accuracy: 0.6930\n",
            "Epoch 6/30\n",
            "8/8 [==============================] - 20s 2s/step - loss: 2.2033 - accuracy: 0.7456\n",
            "Epoch 7/30\n",
            "8/8 [==============================] - 20s 3s/step - loss: 1.9111 - accuracy: 0.7281\n",
            "Epoch 8/30\n",
            "8/8 [==============================] - 22s 3s/step - loss: 2.3377 - accuracy: 0.7368\n",
            "Epoch 9/30\n",
            "8/8 [==============================] - 23s 3s/step - loss: 1.5905 - accuracy: 0.8158\n",
            "Epoch 10/30\n",
            "8/8 [==============================] - 23s 3s/step - loss: 2.1444 - accuracy: 0.7982\n",
            "Epoch 11/30\n",
            "8/8 [==============================] - 20s 3s/step - loss: 1.1114 - accuracy: 0.8070\n",
            "Epoch 12/30\n",
            "8/8 [==============================] - 21s 3s/step - loss: 1.3324 - accuracy: 0.8158\n",
            "Epoch 13/30\n",
            "8/8 [==============================] - 23s 3s/step - loss: 1.3688 - accuracy: 0.7982\n",
            "Epoch 14/30\n",
            "8/8 [==============================] - 21s 3s/step - loss: 1.1121 - accuracy: 0.8684\n",
            "Epoch 15/30\n",
            "8/8 [==============================] - 21s 3s/step - loss: 0.7662 - accuracy: 0.8596\n",
            "Epoch 16/30\n",
            "8/8 [==============================] - 23s 3s/step - loss: 0.5335 - accuracy: 0.9386\n",
            "Epoch 17/30\n",
            "8/8 [==============================] - 21s 3s/step - loss: 0.5432 - accuracy: 0.8947\n",
            "Epoch 18/30\n",
            "8/8 [==============================] - 23s 3s/step - loss: 0.5941 - accuracy: 0.9123\n",
            "Epoch 19/30\n",
            "8/8 [==============================] - 21s 3s/step - loss: 0.9088 - accuracy: 0.9035\n",
            "Epoch 20/30\n",
            "8/8 [==============================] - 23s 3s/step - loss: 0.6094 - accuracy: 0.8947\n",
            "Epoch 21/30\n",
            "8/8 [==============================] - 23s 3s/step - loss: 0.5009 - accuracy: 0.9123\n",
            "Epoch 22/30\n",
            "8/8 [==============================] - 21s 3s/step - loss: 0.9811 - accuracy: 0.8684\n",
            "Epoch 23/30\n",
            "8/8 [==============================] - 21s 3s/step - loss: 1.0006 - accuracy: 0.8509\n",
            "Epoch 24/30\n",
            "8/8 [==============================] - 22s 3s/step - loss: 0.2653 - accuracy: 0.9386\n",
            "Epoch 25/30\n",
            "8/8 [==============================] - 21s 3s/step - loss: 0.4681 - accuracy: 0.9474\n",
            "Epoch 26/30\n",
            "8/8 [==============================] - 25s 3s/step - loss: 1.2313 - accuracy: 0.8509\n",
            "Epoch 27/30\n",
            "8/8 [==============================] - 20s 3s/step - loss: 0.5418 - accuracy: 0.9298\n",
            "Epoch 28/30\n",
            "8/8 [==============================] - 20s 3s/step - loss: 0.6988 - accuracy: 0.9035\n",
            "Epoch 29/30\n",
            "8/8 [==============================] - 22s 3s/step - loss: 0.4183 - accuracy: 0.9474\n",
            "Epoch 30/30\n",
            "8/8 [==============================] - 22s 3s/step - loss: 0.5461 - accuracy: 0.9035\n"
          ]
        }
      ]
    },
    {
      "cell_type": "code",
      "source": [
        "history = model.fit(train_x,\n",
        "                    train_y,\n",
        "                    epochs=10,\n",
        "                    batch_size=16)"
      ],
      "metadata": {
        "colab": {
          "base_uri": "https://localhost:8080/"
        },
        "id": "GVzk8X_aQEkF",
        "outputId": "04da1074-97fe-46bf-8051-c4c054c1bf88"
      },
      "execution_count": 35,
      "outputs": [
        {
          "output_type": "stream",
          "name": "stdout",
          "text": [
            "Epoch 1/10\n",
            "8/8 [==============================] - 133s 14s/step - loss: 0.5120 - accuracy: 0.7456\n",
            "Epoch 2/10\n",
            "8/8 [==============================] - 113s 14s/step - loss: 0.3172 - accuracy: 0.8947\n",
            "Epoch 3/10\n",
            "8/8 [==============================] - 115s 14s/step - loss: 0.2540 - accuracy: 0.9123\n",
            "Epoch 4/10\n",
            "8/8 [==============================] - 113s 14s/step - loss: 0.1866 - accuracy: 0.9912\n",
            "Epoch 5/10\n",
            "8/8 [==============================] - 114s 14s/step - loss: 0.1946 - accuracy: 0.9474\n",
            "Epoch 6/10\n",
            "8/8 [==============================] - 115s 14s/step - loss: 0.1681 - accuracy: 0.9912\n",
            "Epoch 7/10\n",
            "8/8 [==============================] - 113s 14s/step - loss: 0.1196 - accuracy: 1.0000\n",
            "Epoch 8/10\n",
            "8/8 [==============================] - 114s 14s/step - loss: 0.1331 - accuracy: 0.9825\n",
            "Epoch 9/10\n",
            "8/8 [==============================] - 113s 14s/step - loss: 0.1310 - accuracy: 1.0000\n",
            "Epoch 10/10\n",
            "8/8 [==============================] - 113s 14s/step - loss: 0.1029 - accuracy: 0.9912\n"
          ]
        }
      ]
    },
    {
      "cell_type": "code",
      "source": [
        "history = model.fit(train_x,\n",
        "                    train_y,\n",
        "                    epochs=10,\n",
        "                    batch_size=16,\n",
        "                    validation_data=validata,\n",
        "                    validation_freq=1)"
      ],
      "metadata": {
        "colab": {
          "base_uri": "https://localhost:8080/"
        },
        "id": "2XS0CzOjSmWG",
        "outputId": "e288f17d-607e-4c9c-e48d-1bf842bd3b4d"
      },
      "execution_count": 11,
      "outputs": [
        {
          "output_type": "stream",
          "name": "stdout",
          "text": [
            "Epoch 1/10\n",
            "9/9 [==============================] - 162s 15s/step - loss: 0.5673 - accuracy: 0.7099 - val_loss: 0.6264 - val_accuracy: 0.7059\n",
            "Epoch 2/10\n",
            "9/9 [==============================] - 135s 15s/step - loss: 0.3242 - accuracy: 0.9008 - val_loss: 0.6648 - val_accuracy: 0.7059\n",
            "Epoch 3/10\n",
            "9/9 [==============================] - 130s 14s/step - loss: 0.2254 - accuracy: 0.9695 - val_loss: 0.6541 - val_accuracy: 0.7059\n",
            "Epoch 4/10\n",
            "9/9 [==============================] - 131s 15s/step - loss: 0.1975 - accuracy: 0.9695 - val_loss: 0.6216 - val_accuracy: 0.7059\n",
            "Epoch 5/10\n",
            "9/9 [==============================] - 130s 14s/step - loss: 0.1795 - accuracy: 0.9542 - val_loss: 0.6106 - val_accuracy: 0.6471\n",
            "Epoch 6/10\n",
            "9/9 [==============================] - 136s 15s/step - loss: 0.1361 - accuracy: 0.9847 - val_loss: 0.5728 - val_accuracy: 0.7647\n",
            "Epoch 7/10\n",
            "9/9 [==============================] - 131s 14s/step - loss: 0.1083 - accuracy: 0.9924 - val_loss: 0.5316 - val_accuracy: 0.8235\n",
            "Epoch 8/10\n",
            "9/9 [==============================] - 136s 15s/step - loss: 0.1102 - accuracy: 1.0000 - val_loss: 0.4483 - val_accuracy: 0.8824\n",
            "Epoch 9/10\n",
            "9/9 [==============================] - 134s 15s/step - loss: 0.1476 - accuracy: 0.9695 - val_loss: 0.3952 - val_accuracy: 0.9412\n",
            "Epoch 10/10\n",
            "9/9 [==============================] - 129s 14s/step - loss: 0.0960 - accuracy: 1.0000 - val_loss: 0.3506 - val_accuracy: 1.0000\n"
          ]
        }
      ]
    },
    {
      "cell_type": "code",
      "source": [
        "plt.plot(history.history['val_loss'])\n",
        "plt.plot(history.history['val_accuracy'])"
      ],
      "metadata": {
        "colab": {
          "base_uri": "https://localhost:8080/",
          "height": 282
        },
        "id": "cZg6wIOFTWUk",
        "outputId": "fa6aa934-d6cd-4e24-aa0b-8712285adfc3"
      },
      "execution_count": 12,
      "outputs": [
        {
          "output_type": "execute_result",
          "data": {
            "text/plain": [
              "[<matplotlib.lines.Line2D at 0x7f55bccd9810>]"
            ]
          },
          "metadata": {},
          "execution_count": 12
        },
        {
          "output_type": "display_data",
          "data": {
            "text/plain": [
              "<Figure size 432x288 with 1 Axes>"
            ],
            "image/png": "[encoded data removed]"
          },
          "metadata": {
            "needs_background": "light"
          }
        }
      ]
    },
    {
      "cell_type": "code",
      "source": [
        "model.evaluate(test_x, test_y)"
      ],
      "metadata": {
        "id": "kE4jsQmz2QLL"
      },
      "execution_count": null,
      "outputs": []
    },
    {
      "cell_type": "code",
      "source": [
        "modelAlex.evaluate(test_x, test_y)"
      ],
      "metadata": {
        "colab": {
          "base_uri": "https://localhost:8080/"
        },
        "id": "gNXdJXvKxuxX",
        "outputId": "18b22c71-3e20-4a5c-eebb-56b82c777684"
      },
      "execution_count": 38,
      "outputs": [
        {
          "output_type": "stream",
          "name": "stdout",
          "text": [
            "2/2 [==============================] - 2s 749ms/step - loss: 0.2437 - accuracy: 0.9200\n"
          ]
        },
        {
          "output_type": "execute_result",
          "data": {
            "text/plain": [
              "[0.24372883141040802, 0.9200000166893005]"
            ]
          },
          "metadata": {},
          "execution_count": 38
        }
      ]
    },
    {
      "cell_type": "code",
      "source": [
        "def generate_confusion_data(testx, testy):\n",
        "  y_pred = []  # store predicted labels\n",
        "  y_true = []  # store true labels\n",
        "\n",
        "  # iterate over the dataset\n",
        "  for i in range(len(testx)):   # use dataset.unbatch() with repeat\n",
        "    # append true labels\n",
        "    y_true.append(testy[i])\n",
        "    # compute predictions\n",
        "    img_tensor = np.expand_dims(testx[i], axis=0)\n",
        "    preds = modelAlex.predict(img_tensor)\n",
        "    # append predicted labels\n",
        "    y_pred.append((1 if preds > 0.5 else 0))\n",
        "    #y_pred.append(preds)\n",
        "\n",
        "  # convert the true and predicted labels into tensors\n",
        "  correct_labels = tf.concat([item for item in y_true], axis = 0)\n",
        "  predicted_labels = tf.concat([item for item in y_pred], axis = 0)\n",
        "\n",
        "  return (correct_labels, predicted_labels)"
      ],
      "metadata": {
        "id": "fKhu2zmh2e39"
      },
      "execution_count": 39,
      "outputs": []
    },
    {
      "cell_type": "code",
      "source": [
        "from sklearn.metrics import ConfusionMatrixDisplay\n",
        "from sklearn.metrics import confusion_matrix\n",
        "\n",
        "labels = [\"Good data\", \"Fault data\"]\n",
        "\n",
        "y_test, y_pred = generate_confusion_data(test_x, test_y)\n",
        "\n",
        "cm = confusion_matrix(y_test, y_pred)\n",
        "\n",
        "disp = ConfusionMatrixDisplay(confusion_matrix=cm, display_labels=labels)\n",
        "\n",
        "disp.plot(cmap=plt.cm.Blues)\n",
        "plt.show()"
      ],
      "metadata": {
        "colab": {
          "base_uri": "https://localhost:8080/",
          "height": 1000
        },
        "id": "xgiRHXcb2om1",
        "outputId": "ee423c8b-4c92-405a-9111-715db3431640"
      },
      "execution_count": 40,
      "outputs": [
        {
          "output_type": "stream",
          "name": "stdout",
          "text": [
            "1/1 [==============================] - 0s 294ms/step\n",
            "1/1 [==============================] - 0s 82ms/step\n",
            "1/1 [==============================] - 0s 82ms/step\n",
            "1/1 [==============================] - 0s 80ms/step\n",
            "1/1 [==============================] - 0s 79ms/step\n",
            "1/1 [==============================] - 0s 81ms/step\n",
            "1/1 [==============================] - 0s 84ms/step\n",
            "1/1 [==============================] - 0s 83ms/step\n",
            "1/1 [==============================] - 0s 92ms/step\n",
            "1/1 [==============================] - 0s 81ms/step\n",
            "1/1 [==============================] - 0s 85ms/step\n",
            "1/1 [==============================] - 0s 80ms/step\n",
            "1/1 [==============================] - 0s 82ms/step\n",
            "1/1 [==============================] - 0s 80ms/step\n",
            "1/1 [==============================] - 0s 85ms/step\n",
            "1/1 [==============================] - 0s 80ms/step\n",
            "1/1 [==============================] - 0s 89ms/step\n",
            "1/1 [==============================] - 0s 85ms/step\n",
            "1/1 [==============================] - 0s 86ms/step\n",
            "1/1 [==============================] - 0s 81ms/step\n",
            "1/1 [==============================] - 0s 81ms/step\n",
            "1/1 [==============================] - 0s 84ms/step\n",
            "1/1 [==============================] - 0s 81ms/step\n",
            "1/1 [==============================] - 0s 87ms/step\n",
            "1/1 [==============================] - 0s 82ms/step\n",
            "1/1 [==============================] - 0s 83ms/step\n",
            "1/1 [==============================] - 0s 80ms/step\n",
            "1/1 [==============================] - 0s 83ms/step\n",
            "1/1 [==============================] - 0s 86ms/step\n",
            "1/1 [==============================] - 0s 84ms/step\n",
            "1/1 [==============================] - 0s 89ms/step\n",
            "1/1 [==============================] - 0s 80ms/step\n",
            "1/1 [==============================] - 0s 84ms/step\n",
            "1/1 [==============================] - 0s 89ms/step\n",
            "1/1 [==============================] - 0s 81ms/step\n",
            "1/1 [==============================] - 0s 81ms/step\n",
            "1/1 [==============================] - 0s 80ms/step\n",
            "1/1 [==============================] - 0s 82ms/step\n",
            "1/1 [==============================] - 0s 92ms/step\n",
            "1/1 [==============================] - 0s 80ms/step\n",
            "1/1 [==============================] - 0s 81ms/step\n",
            "1/1 [==============================] - 0s 90ms/step\n",
            "1/1 [==============================] - 0s 87ms/step\n",
            "1/1 [==============================] - 0s 78ms/step\n",
            "1/1 [==============================] - 0s 83ms/step\n",
            "1/1 [==============================] - 0s 81ms/step\n",
            "1/1 [==============================] - 0s 82ms/step\n",
            "1/1 [==============================] - 0s 85ms/step\n",
            "1/1 [==============================] - 0s 79ms/step\n",
            "1/1 [==============================] - 0s 84ms/step\n"
          ]
        },
        {
          "output_type": "display_data",
          "data": {
            "text/plain": [
              "<Figure size 432x288 with 2 Axes>"
            ],
            "image/png": "[encoded data removed]"
          },
          "metadata": {
            "needs_background": "light"
          }
        }
      ]
    },
    {
      "cell_type": "code",
      "source": [
        "historyAlex.history.keys()\n",
        "f,ax=plt.subplots(1,2,figsize=(20,5)) \n",
        "\n",
        "#Assigning the first subplot to graph training loss and validation loss\n",
        "ax[0].plot(historyAlex.history['loss'],color='b',label='Training Loss')\n",
        "#ax[0].plot(history.history['val_loss'],color='r',label='Validation Loss')\n",
        "\n",
        "#Plotting the training accuracy and validation accuracy\n",
        "ax[1].plot(historyAlex.history['accuracy'],color='b',label='Training  Accuracy')\n",
        "#ax[1].plot(history.history['val_accuracy'],color='r',label='Validation Accuracy')\n",
        "\n",
        "plt.legend()"
      ],
      "metadata": {
        "colab": {
          "base_uri": "https://localhost:8080/",
          "height": 337
        },
        "id": "Jz69wndN2rsI",
        "outputId": "dd94910e-d4a7-49cc-f039-0443bc172130"
      },
      "execution_count": 41,
      "outputs": [
        {
          "output_type": "execute_result",
          "data": {
            "text/plain": [
              "<matplotlib.legend.Legend at 0x7fa91c6b4410>"
            ]
          },
          "metadata": {},
          "execution_count": 41
        },
        {
          "output_type": "display_data",
          "data": {
            "text/plain": [
              "<Figure size 1440x360 with 2 Axes>"
            ],
            "image/png": "[encoded data removed]"
          },
          "metadata": {
            "needs_background": "light"
          }
        }
      ]
    },
    {
      "cell_type": "code",
      "source": [
        "from sklearn.metrics import RocCurveDisplay\n",
        "from sklearn.metrics import roc_auc_score\n",
        "from sklearn.metrics import f1_score\n",
        "from sklearn.metrics import balanced_accuracy_score\n",
        "from sklearn.metrics import matthews_corrcoef\n",
        "from sklearn.metrics import classification_report\n",
        "from sklearn.metrics import average_precision_score\n",
        "\n",
        "roc = RocCurveDisplay.from_predictions(y_test, y_pred)\n",
        "#print(fpr)\n",
        "print(roc)\n",
        "auc = roc_auc_score(y_test, y_pred)\n",
        "print(auc)\n",
        "\n",
        "print(\"Balanced accuracy: \", balanced_accuracy_score(y_test, y_pred))\n",
        "\n",
        "print(\"F1 score: \" , f1_score(y_test, y_pred))\n",
        "\n",
        "print(\"MCC: \" , matthews_corrcoef(y_test, y_pred))\n",
        "\n",
        "\n",
        "#ax = plt.plot(tpr, fpr)"
      ],
      "metadata": {
        "colab": {
          "base_uri": "https://localhost:8080/",
          "height": 366
        },
        "id": "NTNXDb4F3Y8S",
        "outputId": "3dac9108-34e6-4c78-ecfb-d309abbbe941"
      },
      "execution_count": 28,
      "outputs": [
        {
          "output_type": "stream",
          "name": "stdout",
          "text": [
            "<sklearn.metrics._plot.roc_curve.RocCurveDisplay object at 0x7fa923591450>\n",
            "0.5\n",
            "Balanced accuracy:  0.5\n",
            "F1 score:  0.5507246376811594\n",
            "MCC:  0.0\n"
          ]
        },
        {
          "output_type": "display_data",
          "data": {
            "text/plain": [
              "<Figure size 432x288 with 1 Axes>"
            ],
            "image/png": "[encoded data removed]"
          },
          "metadata": {
            "needs_background": "light"
          }
        }
      ]
    },
    {
      "cell_type": "code",
      "source": [
        "model.save(\"drive/My Drive/Masterthesis/\")"
      ],
      "metadata": {
        "colab": {
          "base_uri": "https://localhost:8080/"
        },
        "id": "ggBebmZA4Tzp",
        "outputId": "0799439b-0ef9-4b54-ff1e-8c297e458511"
      },
      "execution_count": null,
      "outputs": [
        {
          "output_type": "stream",
          "name": "stderr",
          "text": [
            "WARNING:absl:Found untraced functions such as _jit_compiled_convolution_op, _jit_compiled_convolution_op, _jit_compiled_convolution_op, _jit_compiled_convolution_op, _jit_compiled_convolution_op while saving (showing 5 of 168). These functions will not be directly callable after loading.\n"
          ]
        }
      ]
    },
    {
      "cell_type": "code",
      "source": [],
      "metadata": {
        "id": "BwMdB3xEC7jJ"
      },
      "execution_count": null,
      "outputs": []
    },
    {
      "cell_type": "markdown",
      "source": [
        "## HYPERMETER TUNING DENSENET"
      ],
      "metadata": {
        "id": "8XnItykd6xZo"
      }
    },
    {
      "cell_type": "code",
      "source": [
        "HP_EPOCHS = hp.HParam('epochs', hp.Discrete([30, 50, 70, 100]))\n",
        "#HP_LEARNINGRATE = hp.HParam('learningrate', hp.Discrete([0.001, 0.01, 0.1]))\n",
        "HP_OPTIMIZER = hp.HParam('optimizer', hp.Discrete(['adam', 'sgd']))\n",
        "HP_TRANSFER = hp.HParam('Transferlearning', hp.Discrete(['imagenet', 'None']))\n",
        "\n",
        "METRIC_LOSS = 'loss'\n",
        "METRIC_ACCURACY = 'acc'\n",
        "METRIC_TEST_ACCURACY = 'test_acc'\n",
        "\n",
        "with tf.summary.create_file_writer('logs/hparam_tuning').as_default():\n",
        "  hp.hparams_config(\n",
        "    hparams=[HP_EPOCHS, HP_OPTIMIZER, HP_TRANSFER],\n",
        "    metrics=[hp.Metric(METRIC_LOSS, display_name='Loss'), hp.Metric(METRIC_ACCURACY, display_name='Accuracy'), hp.Metric(METRIC_TEST_ACCURACY, display_name='Test Accuracy')],\n",
        "  )"
      ],
      "metadata": {
        "id": "YyJe2EOr63Hf"
      },
      "execution_count": 48,
      "outputs": []
    },
    {
      "cell_type": "code",
      "source": [
        "def denseModel(hparams):\n",
        "\n",
        "  if hparams[HP_TRANSFER] == 'None':\n",
        "    hptransfer = None\n",
        "  else:\n",
        "    hptransfer = hparams[HP_TRANSFER]\n",
        "\n",
        "\n",
        "  modelDense = DenseNet169(weights=hptransfer)#weights='imagenet'\n",
        "\n",
        "  # remove last layers to extract features...\n",
        "\n",
        "  feature_layer = modelDense.layers[-2].output\n",
        "\n",
        "  last_layer = tf.keras.layers.Dense(1, activation='sigmoid')(feature_layer)\n",
        "\n",
        "  model = tf.keras.Model(inputs = modelDense.input, outputs = last_layer)\n",
        "  #model_featureEX.summary()\n",
        "\n",
        "  model.compile(loss='binary_crossentropy', optimizer=hparams[HP_OPTIMIZER], metrics=['accuracy'])\n",
        "\n",
        "  model.summary()\n",
        "\n",
        "  _, acc = model.fit(train_x, train_y, epochs=hparams[HP_EPOCHS], batch_size=16)\n",
        "\n",
        "  loss, test_acc = model.evaluate(test_x, test_y)\n",
        "\n",
        "  return loss, acc, test_acc\n"
      ],
      "metadata": {
        "id": "xZKH9JPv7QHW"
      },
      "execution_count": 49,
      "outputs": []
    },
    {
      "cell_type": "code",
      "source": [
        "def run(run_dir, hparams):\n",
        "  with tf.summary.create_file_writer(run_dir).as_default():\n",
        "    hp.hparams(hparams)  # record the values used in this trial\n",
        "    loss, acc, test_acc = denseModel(hparams)\n",
        "    tf.summary.scalar(METRIC_LOSS, loss, step=1)\n",
        "    tf.summary.scalar(METRIC_ACCURACY, acc, step=1)\n",
        "    tf.summary.scalar(METRIC_TEST_ACCURACY, test_acc, step=1)"
      ],
      "metadata": {
        "id": "yxd5kXNr9-B0"
      },
      "execution_count": null,
      "outputs": []
    },
    {
      "cell_type": "code",
      "source": [
        "session_num = 0\n",
        "\n",
        "for epochs in HP_EPOCHS.domain.values:\n",
        "  for optimizer in (HP_OPTIMIZER.domain.values):\n",
        "    for transferOnOff in HP_TRANSFER.domain.values:\n",
        "      hparams = {\n",
        "          HP_EPOCHS: epochs,\n",
        "          HP_OPTIMIZER: optimizer,\n",
        "          HP_TRANSFER: transferOnOff,\n",
        "      }\n",
        "      run_name = \"run-%d\" % session_num\n",
        "      print('--- Starting trial: %s' % run_name)\n",
        "      print({h.name: hparams[h] for h in hparams})\n",
        "      run('logs/hparam_tuning/' + run_name, hparams)\n",
        "      session_num += 1"
      ],
      "metadata": {
        "id": "BnazIP1_76Z0"
      },
      "execution_count": 46,
      "outputs": []
    },
    {
      "cell_type": "code",
      "source": [
        "# Load the TensorBoard notebook extension\n",
        "%load_ext tensorboard\n",
        "# Run before run\n",
        "#!rm -rf ./logs/\n",
        "%tensorboard --logdir logs"
      ],
      "metadata": {
        "id": "KGfA2148-7I8"
      },
      "execution_count": null,
      "outputs": []
    }
  ]
}